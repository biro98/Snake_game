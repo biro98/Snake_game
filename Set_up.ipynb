{
 "cells": [
  {
   "cell_type": "code",
   "execution_count": null,
   "id": "fba20fe0",
   "metadata": {},
   "outputs": [],
   "source": [
    "import pygame\n",
    "\n",
    "import random\n",
    "\n",
    "class SnakeGame:\n",
    "    def __init__(self):\n",
    "        # Define snake speed\n",
    "        self.snake_speed = 10\n",
    "\n",
    "        # Define Window size: width, height\n",
    "        self.window_x = 1000\n",
    "        self.window_y = 800\n",
    "\n",
    "        # Defining colors for the game\n",
    "        self.black = pygame.Color(0, 0, 0)\n",
    "        self.white = pygame.Color(255, 255, 255)\n",
    "        self.red = pygame.Color(255, 0, 0)\n",
    "        self.green = pygame.Color(0, 255, 0)\n",
    "        self.blue = pygame.Color(0, 0, 255)\n",
    "\n",
    "        # Initializing pygame\n",
    "        pygame.init()\n",
    "        pygame.font.init()  # Explicitly initialize the font module\n",
    "\n",
    "\n",
    "        # Initialise game window with the title\n",
    "        pygame.display.set_caption('Snakes Game')\n",
    "        self.game_window = pygame.display.set_mode((self.window_x, self.window_y))\n",
    "\n",
    "        # Frame per second controller\n",
    "        self.fps = pygame.time.Clock()\n",
    "\n",
    "        # Defining snake's default position\n",
    "        self.snake_position = [100, 50]\n",
    "\n",
    "        # Defining first 4 blocks of the snake body\n",
    "        self.snake_body = [[100, 50], [90, 50], [80, 50], [70, 50]]\n",
    "\n",
    "        # Fruit position\n",
    "        self.fruit_position = [random.randrange(1, (self.window_x // 10)) * 10, \n",
    "                               random.randrange(1, (self.window_y // 10)) * 10]\n",
    "\n",
    "        self.fruit_spawn = True\n",
    "\n",
    "        # Setting default snake direction towards right\n",
    "        # This ensures that the snake moves to the right when the game is initialized\n",
    "        self.direction = 'RIGHT'\n",
    "        self.change_to = self.direction\n",
    "\n",
    "        # Initial score\n",
    "        self.score = 0\n",
    "\n",
    "    "
   ]
  }
 ],
 "metadata": {
  "kernelspec": {
   "display_name": "Python 3 (ipykernel)",
   "language": "python",
   "name": "python3"
  },
  "language_info": {
   "codemirror_mode": {
    "name": "ipython",
    "version": 3
   },
   "file_extension": ".py",
   "mimetype": "text/x-python",
   "name": "python",
   "nbconvert_exporter": "python",
   "pygments_lexer": "ipython3",
   "version": "3.9.18"
  }
 },
 "nbformat": 4,
 "nbformat_minor": 5
}
