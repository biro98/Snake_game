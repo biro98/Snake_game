{
 "cells": [
  {
   "cell_type": "code",
   "execution_count": null,
   "id": "3790b540",
   "metadata": {},
   "outputs": [],
   "source": [
    "import pygame\n",
    "import time\n",
    "\n",
    "class SnakeGameUtilities:\n",
    "    @staticmethod\n",
    "    def show_score(game_window, score, choice, color, font, size):\n",
    "        score_font = pygame.font.SysFont(font, size)\n",
    "        score_surface = score_font.render('Score : ' + str(score), True, color)\n",
    "        score_rect = score_surface.get_rect()\n",
    "        game_window.blit(score_surface, score_rect)\n",
    "\n",
    "    @staticmethod\n",
    "    def game_over(game_window, window_x, window_y, score, red):\n",
    "        my_font = pygame.font.SysFont('times new roman', 50)\n",
    "        game_over_surface = my_font.render('Your Score is : ' + str(score), True, red)\n",
    "        game_over_rect = game_over_surface.get_rect()\n",
    "        game_over_rect.midtop = (window_x / 2, window_y / 4)\n",
    "        game_window.blit(game_over_surface, game_over_rect)\n",
    "        pygame.display.flip()\n",
    "        time.sleep(2)\n",
    "        pygame.quit()\n",
    "        quit()\n",
    "\n",
    "    @staticmethod\n",
    "    def increase_speed(score, speed):\n",
    "        speed_increase = 2.5  # Adjust as needed\n",
    "        max_speed = 50        # Maximum speed limit\n",
    "        new_speed = speed + speed_increase\n",
    "        return min(new_speed, max_speed)  # Ensures speed does not exceed max_speed\n"
   ]
  }
 ],
 "metadata": {
  "kernelspec": {
   "display_name": "Python 3 (ipykernel)",
   "language": "python",
   "name": "python3"
  },
  "language_info": {
   "codemirror_mode": {
    "name": "ipython",
    "version": 3
   },
   "file_extension": ".py",
   "mimetype": "text/x-python",
   "name": "python",
   "nbconvert_exporter": "python",
   "pygments_lexer": "ipython3",
   "version": "3.9.18"
  }
 },
 "nbformat": 4,
 "nbformat_minor": 5
}
